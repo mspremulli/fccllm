{
 "cells": [
  {
   "cell_type": "code",
   "execution_count": null,
   "metadata": {},
   "outputs": [],
   "source": [
    "with open('wizard_of_oz.txt', 'r', encoding='utf-8') as f:\n",
    "    text = f.read()\n",
    "    chars = sorted(set(text))\n",
    "    print(chars)\n",
    "#     print(text[:200])\n"
   ]
  },
  {
   "cell_type": "code",
   "execution_count": 6,
   "metadata": {
    "scrolled": true
   },
   "outputs": [
    {
     "name": "stdout",
     "output_type": "stream",
     "text": [
      "tensor([23, 54, 60, 58, 55, 44, 61, 43, 60, 49, 55, 54,  0,  0,  0, 20, 55, 52,\n",
      "        51, 52, 55, 58, 45,  6,  1, 52, 45, 47, 45, 54, 44, 59,  6,  1, 53, 65,\n",
      "        60, 48, 59,  1, 41, 54, 44,  1, 46, 41, 49, 58, 65,  1, 60, 41, 52, 45,\n",
      "        59,  1, 48, 41, 62, 45,  1, 46, 55, 52, 52, 55, 63, 45, 44,  1, 43, 48,\n",
      "        49, 52, 44, 48, 55, 55, 44,  0, 60, 48, 58, 55, 61, 47, 48,  1, 60, 48,\n",
      "        45,  1, 41, 47, 45, 59,  6,  1, 46, 55, 58,  1, 45, 62, 45, 58, 65,  1,\n",
      "        48, 45, 41, 52, 60, 48, 65,  1, 65, 55, 61, 54, 47, 59, 60, 45, 58,  1,\n",
      "        48, 41, 59,  1, 41,  1, 63, 48, 55, 52, 45, 59, 55, 53, 45,  1, 41, 54,\n",
      "        44,  0, 49, 54, 59, 60, 49, 54, 43, 60, 49, 62, 45,  1, 52, 55, 62, 45,\n",
      "         1, 46, 55, 58,  1, 59, 60, 55, 58, 49, 45, 59,  1, 46, 41, 54, 60, 41,\n",
      "        59, 60, 49, 43,  6,  1, 53, 41, 58, 62, 45, 52, 55, 61, 59,  1, 41, 54,\n",
      "        44,  1, 53, 41, 54, 49, 46, 45, 59, 60, 52, 65,  0, 61, 54, 58, 45, 41,\n",
      "        52,  8,  1, 34, 48, 45,  1, 63, 49, 54, 47, 45, 44,  1, 46, 41, 49, 58,\n",
      "        49, 45, 59,  1, 55, 46,  1, 21, 58, 49, 53, 53,  1, 41, 54, 44,  1, 15,\n",
      "        54, 44, 45, 58, 59, 45, 54,  1, 48, 41, 62, 45,  1, 42, 58, 55, 61, 47,\n",
      "        48, 60,  1, 53, 55, 58, 45,  0, 48, 41, 56, 56, 49, 54, 45, 59, 59,  1,\n",
      "        60, 55,  1, 43, 48, 49, 52, 44, 49, 59, 48,  1])\n"
     ]
    }
   ],
   "source": [
    "string_to_int = {ch:i for i,ch in enumerate(chars)}\n",
    "int_to_string = {i:ch for i,ch in enumerate(chars)}\n",
    "encode = lambda s: [string_to_int[c] for c in s]\n",
    "decode = lambda l: ''.join([int_to_string[i] for i in l])\n",
    "\n",
    "# encoded_hello = encode('hello')\n",
    "# decoded_hello = decode(encode('hello'))\n",
    "# print(encoded_hello)\n",
    "# print(decoded_hello)\n",
    "data = torch.tensor(encode(text))\n",
    "print(data[:300])"
   ]
  },
  {
   "cell_type": "code",
   "execution_count": 2,
   "metadata": {},
   "outputs": [],
   "source": [
    "import torch\n",
    "\n",
    " "
   ]
  },
  {
   "cell_type": "code",
   "execution_count": 7,
   "metadata": {},
   "outputs": [],
   "source": [
    "\n"
   ]
  },
  {
   "cell_type": "code",
   "execution_count": 10,
   "metadata": {},
   "outputs": [
    {
     "ename": "IndexError",
     "evalue": "slice() cannot be applied to a 0-dim tensor.",
     "output_type": "error",
     "traceback": [
      "\u001b[1;31m---------------------------------------------------------------------------\u001b[0m",
      "\u001b[1;31mIndexError\u001b[0m                                Traceback (most recent call last)",
      "Cell \u001b[1;32mIn[10], line 9\u001b[0m\n\u001b[0;32m      7\u001b[0m y\u001b[38;5;241m=\u001b[39mtrain_data[\u001b[38;5;241m1\u001b[39m:block_size \u001b[38;5;241m+\u001b[39m \u001b[38;5;241m1\u001b[39m]\n\u001b[0;32m      8\u001b[0m \u001b[38;5;28;01mfor\u001b[39;00m t \u001b[38;5;129;01min\u001b[39;00m \u001b[38;5;28mrange\u001b[39m(block_size):\n\u001b[1;32m----> 9\u001b[0m     context \u001b[38;5;241m=\u001b[39m x[:t\u001b[38;5;241m+\u001b[39m\u001b[38;5;241m1\u001b[39m]\n\u001b[0;32m     10\u001b[0m     target \u001b[38;5;241m=\u001b[39m y[t]\n\u001b[0;32m     11\u001b[0m     \u001b[38;5;28mprint\u001b[39m(\u001b[38;5;124m'\u001b[39m\u001b[38;5;124mwhen input is\u001b[39m\u001b[38;5;124m'\u001b[39m, context, \u001b[38;5;124m'\u001b[39m\u001b[38;5;124mtarget is \u001b[39m\u001b[38;5;124m'\u001b[39m, target)\n",
      "\u001b[1;31mIndexError\u001b[0m: slice() cannot be applied to a 0-dim tensor."
     ]
    }
   ],
   "source": [
    "n= int(0.8*len(data))\n",
    "train_data=data[:n]\n",
    "val_data=data[n:]\n",
    "\n",
    "block_size = 8\n",
    "x=train_data[block_size]\n",
    "y=train_data[1:block_size + 1]\n",
    "for t in range(block_size):\n",
    "    context = x[:t+1]\n",
    "    target = y[t]\n",
    "    print('when input is', context, 'target is ', target)"
   ]
  },
  {
   "cell_type": "code",
   "execution_count": null,
   "metadata": {},
   "outputs": [],
   "source": [
    "n= int(0.8*len(data))\n",
    "train_data=data[:n]\n",
    "val_data=data[n:]\n",
    "def get_batch(split):\n",
    "    data = train_data if split == 'train' else val_data"
   ]
  }
 ],
 "metadata": {
  "kernelspec": {
   "display_name": "Python 3 (ipykernel)",
   "language": "python",
   "name": "python3"
  },
  "language_info": {
   "codemirror_mode": {
    "name": "ipython",
    "version": 3
   },
   "file_extension": ".py",
   "mimetype": "text/x-python",
   "name": "python",
   "nbconvert_exporter": "python",
   "pygments_lexer": "ipython3",
   "version": "3.11.5"
  }
 },
 "nbformat": 4,
 "nbformat_minor": 2
}
